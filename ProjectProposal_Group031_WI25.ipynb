{
 "cells": [
  {
   "cell_type": "markdown",
   "metadata": {},
   "source": [
    "# COGS 108 - Project Proposal"
   ]
  },
  {
   "cell_type": "markdown",
   "metadata": {},
   "source": [
    "# Names\n",
    "\n",
    "- Ryan Lindberg\n",
    "- Nathan Mitchell\n",
    "- Domonick Marshall\n",
    "- Sean Notolli"
   ]
  },
  {
   "cell_type": "markdown",
   "metadata": {},
   "source": [
    "# Research Question"
   ]
  },
  {
   "cell_type": "markdown",
   "metadata": {},
   "source": [
    "\n",
    "Revised Question:\n",
    "\"How have Amazon product prices across different market sectors changed between 2021-2024, and how do these trends compare to equivalent categories in the Consumer Price Index (CPI)? Is Amazon pricing in line with overall inflation, or does it diverge from broader economic trends?\"\n",
    "\n"
   ]
  },
  {
   "cell_type": "markdown",
   "metadata": {},
   "source": [
    "## Background and Prior Work"
   ]
  },
  {
   "cell_type": "markdown",
   "metadata": {},
   "source": [
    "\n",
    "From this report on Issuu.<a name=\"cite_ref-1\"></a>[<sup>1</sup>](#cite_note-1), we can see that Amazon prices have a vast amount of driving factors such as supply and demand, seasonal trends, competition, shifting amazon seller fees, algorithmic pricing, Amazon's buy box, brand power, customer reviews, and holidays. This is important background information for this project because it allows us to come to the correct conclusions about our price analysis. The report also gives us important background information on different pricing trends across different sectors of the market such as beauty, home and kitchen, arts and craft, pet supply, and baby products, and shows how each sector faces different trends. With each market sector, the report also produces appealing, concise, and clear visualizations of pricing data across multiple Amazon products. This serves as a valuable guide on how we might want to approach our Amazon price visualizations going forward. \n",
    "\n",
    "This CPI report from the US Bureau of Labor Statistics<a name=\"cite_ref-2\"></a>[<sup>2</sup>](#cite_note-2) serves as an example of how we might want to structure and analyze the CPI data that we will collect. Their data organization and analysis of CPI change from 2023-2024 is neatly formatted and gives us guidance on the proper way to analyze such data. \n",
    "\n",
    "1. <a name=\"cite_note-1\"></a> [^](#cite_ref-1) Jungle Scout (2024, Jan). Amazon Product Pricing Report 2024. Issuu. https://issuu.com/junglescoutcobalt/docs/jungle-scout-amazon-product-pricing-report-2024?utm_source=chatgpt.html \n",
    "2. <a name=\"cite_note-2\"></a> [^](#cite_ref-2) Bureau of Labor Statistics (2024, Feb). Consumer Price Index Summary. U.S. Department of Labor. https://www.bls.gov/news.release/pdf/cpi.html\n"
   ]
  },
  {
   "cell_type": "markdown",
   "metadata": {},
   "source": [
    "# Hypothesis\n"
   ]
  },
  {
   "cell_type": "markdown",
   "metadata": {},
   "source": [
    "\n",
    "Amazon prices across different market sectors have generally increased from 2021-2024 but at an inconsistent rate with inflation trends in the consumer price index. We predict that discretionary goods like electronics and other luxury items have had smaller price increases when compared to essential goods like groceries and other necessities potentially exceeding the CPI inflation rate. We think this is due to Amazon using aggressive price matching and algorithms to remain competitive in non-essential categories where supply chain constraints and labor costs disproportionately impacted essential goods."
   ]
  },
  {
   "cell_type": "markdown",
   "metadata": {},
   "source": [
    "# Data"
   ]
  },
  {
   "cell_type": "markdown",
   "metadata": {},
   "source": [
    "The ideal dataset for this project would be Amazon price data from a diverse range of products, that are easily categorizable, or already categorized into different sectors of the market. Each observation/row would be an item from Amazon. The necessary columns would include date, price, and market sector, but additional columns may be helpful for EDA. Ideally we would have multiple thousands of rows. For example: 150 or so rows for each product to capture 3 years of price data, assuming we have one observation per week. Additionally, we would have historical Consumer Price Index (CPI) data for different market sectors from 2021-2023, which we would use to compare with the respective Amazon categories. Keepa Data (https://keepa.com/#!data) has data tools that could allow us to retrieve Amazon data with relative ease. Data cleaning may be necessary. BLS.gov (https://www.bls.gov/cpi/data.htm) has CPI we plan on retrieving. \n",
    "\n",
    "**Potential issue:** CPI measures price changes for physical retail stores and services, while Amazon is an e-commerce platform.\n",
    "\n",
    "**Mitigation:** Cross-reference other retailers' price trends (if possible) to account for different market sectors. Keepa also contains Ebay data which we could potentially use as another basis of comparison. \n",
    "\n",
    "**Potential issue:** CPI tracks a fixed set of goods, while Amazon's inventory constantly changes.\n",
    "\n",
    "**Mitigation:** Use consistent product categories across years to ensure fair comparison.\n"
   ]
  },
  {
   "cell_type": "markdown",
   "metadata": {},
   "source": [
    "# Ethics & Privacy"
   ]
  },
  {
   "cell_type": "markdown",
   "metadata": {},
   "source": [
    "- Thoughtful discussion of ethical concerns included\n",
    "- Ethical concerns consider the whole data science process (question asked, data collected, data being used, the bias in data, analysis, post-analysis, etc.)\n",
    "- How your group handled bias/ethical concerns clearly described\n",
    "    - Discussed the main points of Deon’s Ethics Checklist in a meeting together. Reviewed each section as a team before submission. \n",
    "\n",
    "Acknowledge and address any ethics & privacy related issues of your question(s), proposed dataset(s), and/or analyses. Use the information provided in lecture to guide your group discussion and thinking. If you need further guidance, check out [Deon's Ethics Checklist](http://deon.drivendata.org/#data-science-ethics-checklist). In particular:\n",
    "\n",
    "- Are there any biases/privacy/terms of use issues with the data you propsed?\n",
    "    - If we decide to use an API to collect our Amazon pricing data such as Keepa, we intend to comply with the Keepa data security policies and API terms of service. \n",
    "- Are there potential biases in your dataset(s), in terms of who it composes, and how it was collected, that may be problematic in terms of it allowing for equitable analysis? (For example, does your data exclude particular populations, or is it likely to reflect particular human biases in a way that could be a problem?)\n",
    "    - If we decide to use an API to collect our Amazon pricing data such as Keepa, we intend to comply with the Keepa data security policies and API terms of service. \n",
    "- How will you set out to detect these specific biases before, during, and after/when communicating your analysis?\n",
    "    - We will start in the data collection process, and ensure that we are collecting data in an unbiased way to effectively represent the Amazon markets while also focusing on aligning these samples with CPI sectors fairly. After we have collected the data, we will conduct EDA to ensure that we did not miss any potential biases in the data collection process. \n",
    "- Are there any other issues related to your topic area, data, and/or analyses that are potentially problematic in terms of data privacy and equitable impact?\n",
    "    - We want to make it clear that regardless of our findings, we are only establishing a correlation between Amazon product prices and CPI rates, and not a causal relationship. Any results are not conclusive evidence that Amazon is responsible for any part of inflation in the US. If our analysis is misinterpreted, it could lead to false narratives about Amazon’s role in inflation. We intend to frame conclusions carefully and provide balanced interpretations of our results. \n",
    "- Personally Identifiable Information\n",
    "    - No personally identifiable information will be collected. However, some sellers may be identifiable, especially if analyzing price trends for specific brands or niche categories. Seller information will be removed and/or hidden from our analysis.\n",
    "- Metric Selection:\n",
    "    - Use percentage price change instead of raw price differences, ensuring fair comparisons across categories.\n",
    "- Explainability:\n",
    "    - Clearly explain findings to avoid speculative claims about Amazon's role in inflation, labor costs, price matching, etc.\n",
    "- Communication Limitation:\n",
    "    - Highlight that CPI and Amazon prices are not perfect comparisons, and results should be interpreted with caution.\n",
    "- Transparency: \n",
    "    - Since access to Keepa data requires a paid membership, it reduces transparency and reproducibility for others who may want to replicate the study. To mitigate this, we minted to provide detailed documentation on how the data was obtained and which filters were applied.\n"
   ]
  },
  {
   "cell_type": "markdown",
   "metadata": {},
   "source": [
    "# Team Expectations "
   ]
  },
  {
   "cell_type": "markdown",
   "metadata": {},
   "source": [
    "* *Meet twice a week, Friday at 5pm and Wednesdays around 8:30pm.*\n",
    "\n",
    "* *Delegate work as we see fit in order to meet deadlines, no one group member has one specific role, all types of work will be shared.*\n",
    "\n",
    "* *Openness to ideas. Be respectful and kind to each other if there is disagreement.*\n",
    "\n",
    "* *Meeting primarily on zoom, and keeping consistent communication when not meeting via a group chat (iMessage)*\n",
    "\n",
    "* *Allow space for input and opinions from all members, and come to decisions about our course of action unanimously. Discuss conflicts and ideas until each member feels comfortable with the final decision.*\n",
    "\n",
    "* *If there is an pressing outside factor (personal life, exams, etc.) communicate with each other and find another course of action, work can be delegated differently if need be.*\n"
   ]
  },
  {
   "cell_type": "markdown",
   "metadata": {},
   "source": [
    "# Project Timeline Proposal"
   ]
  },
  {
   "cell_type": "markdown",
   "metadata": {},
   "source": [
    "Specify your team's specific project timeline. An example timeline has been provided. Changes the dates, times, names, and details to fit your group's plan.\n",
    "\n",
    "If you think you will need any special resources or training outside what we have covered in COGS 108 to solve your problem, then your proposal should state these clearly. For example, if you have selected a problem that involves implementing multiple neural networks, please state this so we can make sure you know what you’re doing and so we can point you to resources you will need to implement your project. Note that you are not required to use outside methods.\n",
    "\n",
    "\n",
    "\n",
    "| Meeting Date  | Meeting Time| Completed Before Meeting  | Discuss at Meeting |\n",
    "|---|---|---|---|\n",
    "| 2/07  |  5 PM | Brainstorm Topics / Review Project Proposal  | Finalize a topic and start searching for datasets | \n",
    "| 2/09  |  8:30 PM |  N/A | Discuss amongst eachother goals for the project and review/submit research proposal | \n",
    "| 2/12  | 8:30 PM  | Search for any more possible Datasets  | Discuss how to divvy up our project and make a broad outline   |\n",
    "| 2/14  | 5 PM  | Import our Datasets and start wrangling | Review/Edit wrangling/EDA; Discuss Analysis Plan   |\n",
    "| 2/21  | 5 PM  | Finalize wrangling/EDA; Begin Analysis | Discuss/edit Analysis; Finish Ceck in #1 |\n",
    "| 3/7  |  5 PM  | Complete analysis; Draft results/conclusion/discussion (Wasp)| Discuss/edit full project ; Check in #2 - Complete EDA |\n",
    "| 3/14  | 5 PM  | Practice Video Presentation | Record our Project Presentation |\n",
    "| 3/19  | 5 PM  | Go over each section of our Project | Finialize Files and Submit |"
   ]
  }
 ],
 "metadata": {
  "kernelspec": {
   "display_name": "Python 3 (ipykernel)",
   "language": "python",
   "name": "python3"
  },
  "language_info": {
   "codemirror_mode": {
    "name": "ipython",
    "version": 3
   },
   "file_extension": ".py",
   "mimetype": "text/x-python",
   "name": "python",
   "nbconvert_exporter": "python",
   "pygments_lexer": "ipython3",
   "version": "3.9.7"
  }
 },
 "nbformat": 4,
 "nbformat_minor": 2
}
